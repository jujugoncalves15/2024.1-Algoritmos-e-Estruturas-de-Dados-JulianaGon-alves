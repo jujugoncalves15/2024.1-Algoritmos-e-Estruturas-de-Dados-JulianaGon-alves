{
  "nbformat": 4,
  "nbformat_minor": 0,
  "metadata": {
    "colab": {
      "provenance": [],
      "toc_visible": true,
      "authorship_tag": "ABX9TyMuKFNmPr1J3j7oBRrTYlOd",
      "include_colab_link": true
    },
    "kernelspec": {
      "name": "python3",
      "display_name": "Python 3"
    },
    "language_info": {
      "name": "python"
    }
  },
  "cells": [
    {
      "cell_type": "markdown",
      "metadata": {
        "id": "view-in-github",
        "colab_type": "text"
      },
      "source": [
        "<a href=\"https://colab.research.google.com/github/jujugoncalves15/2024.1-Algoritmos-e-Estruturas-de-Dados-JulianaGon-alves/blob/main/02_media_nota_ifrn.ipynb\" target=\"_parent\"><img src=\"https://colab.research.google.com/assets/colab-badge.svg\" alt=\"Open In Colab\"/></a>"
      ]
    },
    {
      "cell_type": "code",
      "execution_count": null,
      "metadata": {
        "colab": {
          "base_uri": "https://localhost:8080/"
        },
        "id": "y2ANNKnHxM3e",
        "outputId": "a0989b1d-06f8-4671-cb59-3c55ffbb31ed"
      },
      "outputs": [
        {
          "output_type": "stream",
          "name": "stdout",
          "text": [
            "calculadora de média ponderada do IFRN\n"
          ]
        }
      ],
      "source": [
        " print(\"calculadora de média ponderada do IFRN\")\n",
        "#Float, tipagem explícita, para garantir número fracionado\n",
        "n1 = float( input(\"Digite sa nota 1(com peso 2): \") )\n",
        "n2 = float( input(\"Digite sa nota 2(com peso 3): \") )\n",
        "\n",
        "#calculo de media ponderada\n",
        "media = (n1 * 2 + n2 * 3) / 5\n",
        "\n",
        "#impressão da média\n",
        "print(f\"A média ponderada das notas é: {media:.3f})\")\n",
        "\n",
        "#impressão da média sem formatação\n",
        "print(\"A média ponderada das notas é: \", media )\n"
      ]
    },
    {
      "cell_type": "markdown",
      "source": [
        "# Nova seção"
      ],
      "metadata": {
        "id": "tNm42MqYZEPE"
      }
    }
  ]
}