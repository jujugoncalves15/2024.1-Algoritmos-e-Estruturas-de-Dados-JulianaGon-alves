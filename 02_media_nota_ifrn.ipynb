{
  "nbformat": 4,
  "nbformat_minor": 0,
  "metadata": {
    "colab": {
      "provenance": [],
      "toc_visible": true,
      "authorship_tag": "ABX9TyM6/UQwekc3s3mWzNYox9kQ",
      "include_colab_link": true
    },
    "kernelspec": {
      "name": "python3",
      "display_name": "Python 3"
    },
    "language_info": {
      "name": "python"
    }
  },
  "cells": [
    {
      "cell_type": "markdown",
      "metadata": {
        "id": "view-in-github",
        "colab_type": "text"
      },
      "source": [
        "<a href=\"https://colab.research.google.com/github/jujugoncalves15/2024.1-Algoritmos-e-Estruturas-de-Dados-JulianaGon-alves/blob/main/02_media_nota_ifrn.ipynb\" target=\"_parent\"><img src=\"https://colab.research.google.com/assets/colab-badge.svg\" alt=\"Open In Colab\"/></a>"
      ]
    },
    {
      "cell_type": "code",
      "execution_count": 5,
      "metadata": {
        "colab": {
          "base_uri": "https://localhost:8080/"
        },
        "id": "y2ANNKnHxM3e",
        "outputId": "1005a7e1-00a7-43c8-a632-9df7070a0888"
      },
      "outputs": [
        {
          "output_type": "stream",
          "name": "stdout",
          "text": [
            "calculadora de média ponderada do IFRN\n",
            "Digite sa nota 1(com peso 2): 7.0\n",
            "Digite sa nota 2(com peso 3): 6.0\n",
            "A média ponderada das notas é: 6.40)\n",
            "Aprovado\n"
          ]
        }
      ],
      "source": [
        " print(\"calculadora de média ponderada do IFRN\")\n",
        "#Float, tipagem explícita, para garantir número fracionado\n",
        "n1 = float( input(\"Digite sa nota 1(com peso 2): \") )\n",
        "n2 = float( input(\"Digite sa nota 2(com peso 3): \") )\n",
        "\n",
        "#calculo de media ponderada\n",
        "media = (n1 * 2 + n2 * 3) / 5\n",
        "\n",
        "#impressão da média\n",
        "print(f\"A média ponderada das notas é: {media:.2f})\")\n",
        "\n",
        "#apresentar se o aluno foi aprovado ou não\n",
        "if media >=6:\n",
        "  print(\"Aprovado\")\n",
        "else:\n",
        "  if n1 >= 4 and n2 >=4:\n",
        "    print(\"prova final\")\n",
        "  else:\n",
        "      print(\"Reprovado\")\n",
        "\n",
        "\n",
        "\n",
        "\n"
      ]
    },
    {
      "cell_type": "markdown",
      "source": [
        "# Nova seção"
      ],
      "metadata": {
        "id": "tNm42MqYZEPE"
      }
    }
  ]
}