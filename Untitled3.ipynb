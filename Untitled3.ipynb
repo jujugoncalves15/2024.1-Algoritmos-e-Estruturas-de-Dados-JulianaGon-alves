{
  "nbformat": 4,
  "nbformat_minor": 0,
  "metadata": {
    "colab": {
      "provenance": [],
      "authorship_tag": "ABX9TyN5Aq3Gllb7NUIH2dV1Ql9A",
      "include_colab_link": true
    },
    "kernelspec": {
      "name": "python3",
      "display_name": "Python 3"
    },
    "language_info": {
      "name": "python"
    }
  },
  "cells": [
    {
      "cell_type": "markdown",
      "metadata": {
        "id": "view-in-github",
        "colab_type": "text"
      },
      "source": [
        "<a href=\"https://colab.research.google.com/github/jujugoncalves15/2024.1-Algoritmos-e-Estruturas-de-Dados-JulianaGon-alves/blob/main/Untitled3.ipynb\" target=\"_parent\"><img src=\"https://colab.research.google.com/assets/colab-badge.svg\" alt=\"Open In Colab\"/></a>"
      ]
    },
    {
      "cell_type": "code",
      "execution_count": 4,
      "metadata": {
        "colab": {
          "base_uri": "https://localhost:8080/"
        },
        "id": "cmZGwN4DdSvq",
        "outputId": "4845f8a8-7e34-4224-8a3f-03dd194c3aeb"
      },
      "outputs": [
        {
          "output_type": "stream",
          "name": "stdout",
          "text": [
            "Digite um número inteiro:-700\n",
            "A soma do número -700 com 100 é: -600\n",
            "Digite o código do curso:1\n",
            "O curso do IFRN (Campus Natal Central) com código 1 é Técnico em Controle Ambiental.\n",
            "Digite uma frase:juju\n",
            "O tamanho da primeira string 'juju' é 4\n",
            "Digite uma segunda frase:juju\n",
            "O tamanho da segunda string 'juju' é: 4\n",
            "As duas strings têm o mesmo tamanho\n",
            "As duas strings 'juju' e 'juju', são iguais\n",
            "Digite uma terceira frase:juju\n",
            "Removendo as duas primeiras e as duas últimas letras da string 'juju' (4), fica ''\n"
          ]
        }
      ],
      "source": [
        "# Código 1: Verificação e manipulação de números inteiros\n",
        "num = int(input(\"Digite um número inteiro:\"))\n",
        "\n",
        "if num >= 0:\n",
        "    print(\"O número digitado é:\", num)\n",
        "else:\n",
        "    print(\"A soma do número {} com 100 é: {}\".format(num, (num + 100)))\n",
        "\n",
        "# ------------------------------------------------------------------------\n",
        "\n",
        "# Código 2: Verificação de código de curso\n",
        "cod_cur = {\n",
        "    \"1\": \"Técnico em Controle Ambiental\",\n",
        "    \"2\": \"Superior Engenharia Sanitária e Ambiental\",\n",
        "    \"3\": \"Superior Gestão Ambiental\",\n",
        "    \"4\": \"Técnico em Geologia\",\n",
        "    \"5\": \"Técnico em Mineração\"\n",
        "}\n",
        "\n",
        "cod = input(\"Digite o código do curso:\")\n",
        "\n",
        "if cod in cod_cur:\n",
        "    print(\"O curso do IFRN (Campus Natal Central) com código {} é {}.\".format(cod, cod_cur[cod]))\n",
        "else:\n",
        "    print(\"Aviso: código inexistente, tente novamente.\")\n",
        "\n",
        "# ------------------------------------------------------------------------\n",
        "\n",
        "# Código 3: Manipulação de strings\n",
        "str1 = input(\"Digite uma frase:\")\n",
        "print(\"O tamanho da primeira string '{}' é {}\".format(str1, len(str1)))\n",
        "\n",
        "str2 = input(\"Digite uma segunda frase:\")\n",
        "print(\"O tamanho da segunda string '{}' é: {}\".format(str2, len(str2)))\n",
        "\n",
        "if len(str1) == len(str2):\n",
        "    print(\"As duas strings têm o mesmo tamanho\")\n",
        "else:\n",
        "    print(\"As duas strings '{}' e '{}' têm tamanhos diferentes\".format(str1, str2))\n",
        "\n",
        "res1 = str1 == str2\n",
        "\n",
        "if res1:\n",
        "    print(\"As duas strings '{}' e '{}', são iguais\".format(str1, str2))\n",
        "else:\n",
        "    print(\"As duas strings '{}' e '{}' são diferentes\".format(str1, str2))\n",
        "\n",
        "# ------------------------------------------------------------------------\n",
        "\n",
        "# Código 4: Manipulação avançada de strings\n",
        "str3 = input(\"Digite uma terceira frase:\")\n",
        "cont = len(str3)\n",
        "if cont >= 4:\n",
        "    nova_str = str3[2:-2]\n",
        "    print(\"Removendo as duas primeiras e as duas últimas letras da string '{}' ({}), fica '{}'\".format(str3, cont, nova_str))\n",
        "else:\n",
        "    print(\"A string '{}' não possui comprimento suficiente para remover duas letras no início e no fim.\".format(str3))\n"
      ]
    }
  ]
}