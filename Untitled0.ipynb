{
  "nbformat": 4,
  "nbformat_minor": 0,
  "metadata": {
    "colab": {
      "provenance": [],
      "authorship_tag": "ABX9TyPIyxCCwwFBE1svQU5UYQN5",
      "include_colab_link": true
    },
    "kernelspec": {
      "name": "python3",
      "display_name": "Python 3"
    },
    "language_info": {
      "name": "python"
    }
  },
  "cells": [
    {
      "cell_type": "markdown",
      "metadata": {
        "id": "view-in-github",
        "colab_type": "text"
      },
      "source": [
        "<a href=\"https://colab.research.google.com/github/jujugoncalves15/2024.1-Algoritmos-e-Estruturas-de-Dados-JulianaGon-alves/blob/main/Untitled0.ipynb\" target=\"_parent\"><img src=\"https://colab.research.google.com/assets/colab-badge.svg\" alt=\"Open In Colab\"/></a>"
      ]
    },
    {
      "cell_type": "code",
      "execution_count": 5,
      "metadata": {
        "colab": {
          "base_uri": "https://localhost:8080/"
        },
        "id": "kfP1RWyihmSP",
        "outputId": "d9c92b85-6c25-45b5-95ec-1279046d90d3"
      },
      "outputs": [
        {
          "output_type": "stream",
          "name": "stdout",
          "text": [
            "Calculadora de média ponderada do IFRN\n",
            "Digite o número de alunos: 5\n",
            "\n",
            "Aluno 15:\n",
            "Digite a nota 1(com peso 2): 7\n",
            "Digite a nota 2(com peso 3): 5\n",
            "A média ponderada das notas é: 5.80\n",
            "Prova final\n",
            "\n",
            "Aluno 25:\n",
            "Digite a nota 1(com peso 2): 6\n",
            "Digite a nota 2(com peso 3): 9\n",
            "A média ponderada das notas é: 7.80\n",
            "Aprovado\n",
            "\n",
            "Aluno 35:\n",
            "Digite a nota 1(com peso 2): 10\n",
            "Digite a nota 2(com peso 3): 5\n",
            "A média ponderada das notas é: 7.00\n",
            "Aprovado\n",
            "\n",
            "Aluno 45:\n",
            "Digite a nota 1(com peso 2): 2\n",
            "Digite a nota 2(com peso 3): 7\n",
            "A média ponderada das notas é: 5.00\n",
            "Reprovado\n",
            "\n",
            "Aluno 55:\n",
            "Digite a nota 1(com peso 2): 9\n",
            "Digite a nota 2(com peso 3): 3\n",
            "A média ponderada das notas é: 5.40\n",
            "Reprovado\n"
          ]
        }
      ],
      "source": [
        "print(\"Calculadora de média ponderada do IFRN\")\n",
        "\n",
        "#Perguntando, para quantos alunos, desejo calcular média\n",
        "num_alunos = int(input(\"Digite o número de alunos: \"))\n",
        "\n",
        "for aluno in range(1, num_alunos+1):\n",
        "  #imprima o numero do aluno da vez\n",
        "  print(f\"\\nAluno {aluno}5:\")\n",
        "\n",
        "  #Float, tipagem explícita, para garantir número fracionário\n",
        "  n1 = float( input(\"Digite a nota 1(com peso 2): \") )\n",
        "  n2 = float( input(\"Digite a nota 2(com peso 3): \") )\n",
        "\n",
        "  #calculo de media ponderada\n",
        "  media = (n1 * 2 + n2 * 3) / 5\n",
        "\n",
        "  #impressão da média\n",
        "  print(f\"A média ponderada das notas é: {media:.2f}\")\n",
        "\n",
        "  #apresentar se o aluno foi aprovado ou não\n",
        "  if media >= 6:\n",
        "    print(\"Aprovado\")\n",
        "  else:\n",
        "    if n1 >= 4 and n2 >=4:\n",
        "      print(\"Prova final\")\n",
        "    else:\n",
        "      print(\"Reprovado\")5\n",
        "\n"
      ]
    }
  ]
}