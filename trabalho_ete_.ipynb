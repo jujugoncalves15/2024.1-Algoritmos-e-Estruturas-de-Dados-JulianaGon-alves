{
  "nbformat": 4,
  "nbformat_minor": 0,
  "metadata": {
    "colab": {
      "provenance": [],
      "include_colab_link": true
    },
    "kernelspec": {
      "name": "python3",
      "display_name": "Python 3"
    },
    "language_info": {
      "name": "python"
    }
  },
  "cells": [
    {
      "cell_type": "markdown",
      "metadata": {
        "id": "view-in-github",
        "colab_type": "text"
      },
      "source": [
        "<a href=\"https://colab.research.google.com/github/jujugoncalves15/2024.1-Algoritmos-e-Estruturas-de-Dados-JulianaGon-alves/blob/main/trabalho_ete_.ipynb\" target=\"_parent\"><img src=\"https://colab.research.google.com/assets/colab-badge.svg\" alt=\"Open In Colab\"/></a>"
      ]
    },
    {
      "cell_type": "code",
      "source": [
        "print('Seja bem-vindo(a) ao Fiscal Append! Insira as informações necessárias.')\n",
        "print(\"Olá, fiscal\")\n",
        "\n",
        "# Lista para armazenar os dados das indústrias\n",
        "dados_industrias = []\n",
        "\n",
        "while True:\n",
        "    dados_novos = input(\"Você quer inserir novos dados? (sim/não/Sair do programa): \")\n",
        "\n",
        "    if dados_novos == \"sim\":\n",
        "        industria = input(\"Qual o nome da indústria? \")\n",
        "        DBOi = float(input(\"Qual valor de DBO inicial? \"))\n",
        "        DBOf = float(input(\"Qual valor de DBO final? \"))\n",
        "        eficiencia = ((DBOi - DBOf) / DBOi) * 100\n",
        "\n",
        "        # Armazenar os dados em um dicionário e adicionar à lista\n",
        "        dados_industrias.append({\n",
        "            \"industria\": industria,\n",
        "            \"eficiencia\": eficiencia\n",
        "        })\n",
        "\n",
        "        if eficiencia >= 60:\n",
        "            print(\"Eficiência adequada\")\n",
        "        else:\n",
        "            print(\"Eficiência inadequada\")\n",
        "\n",
        "    elif dados_novos == \"não\":\n",
        "        opcao = input(\"Você quer verificar dados antigos, corrigir dados ou encerrar o programa? (verificar/corrigir/encerrar): \")\n",
        "\n",
        "        if opcao == \"verificar\":\n",
        "            industria = input(\"Qual o nome da indústria? \")\n",
        "\n",
        "            # Procurar a indústria na lista de dados\n",
        "            industria_encontrada = False\n",
        "            for dados in dados_industrias:\n",
        "                if dados[\"industria\"] == industria:\n",
        "                    print(f\"Eficiência da indústria {industria}: {dados['eficiencia']}%\")\n",
        "                    industria_encontrada = True\n",
        "                    break\n",
        "\n",
        "            if not industria_encontrada:\n",
        "                print(\"Indústria não encontrada.\")\n",
        "\n",
        "        elif opcao == \"corrigir\":\n",
        "            industria = input(\"Qual o nome da indústria que deseja corrigir? \")\n",
        "\n",
        "            # Procurar a indústria na lista de dados\n",
        "            industria_encontrada = False\n",
        "            for dados in dados_industrias:\n",
        "                if dados[\"industria\"] == industria:\n",
        "                    DBOi_corrigido = float(input(f\"Novo valor de DBO inicial para {industria}: \"))\n",
        "                    DBOf_corrigido = float(input(f\"Novo valor de DBO final para {industria}: \"))\n",
        "                    eficiencia_corrigida = ((DBOi_corrigido - DBOf_corrigido) / DBOi_corrigido) * 100\n",
        "\n",
        "                    # Atualizar os dados corrigidos na lista\n",
        "                    dados[\"eficiencia\"] = eficiencia_corrigida\n",
        "                    print(f\"Dados corrigidos para a indústria {industria}.\")\n",
        "\n",
        "                    if eficiencia_corrigida >= 60:\n",
        "                        print(\"Eficiência adequada\")\n",
        "                    else:\n",
        "                        print(\"Eficiência inadequada\")\n",
        "\n",
        "                    industria_encontrada = True\n",
        "                    break\n",
        "\n",
        "            if not industria_encontrada:\n",
        "                print(\"Indústria não encontrada.\")\n",
        "\n",
        "        elif opcao == \"encerrar\":\n",
        "            print(\"Encerrando o programa... Obrigado por usar o Fiscal Append!\")\n",
        "            break\n",
        "\n",
        "        else:\n",
        "            print(\"Opção inválida. Por favor, insira 'verificar', 'corrigir' ou 'encerrar'.\")\n",
        "\n",
        "    elif dados_novos == \"Sair do programa\":\n",
        "        print(\"Saindo do programa... Obrigado por usar o Fiscal Append!\")\n",
        "        break\n",
        "\n",
        "    else:\n",
        "        print(\"Opção inválida. Por favor, insira 'sim', 'não' ou 'Sair do programa'.\")\n",
        "\n"
      ],
      "metadata": {
        "id": "KJW14m_aj4aD",
        "colab": {
          "base_uri": "https://localhost:8080/"
        },
        "outputId": "377b4967-0654-469d-8ae9-64d3e2d25ef5"
      },
      "execution_count": 4,
      "outputs": [
        {
          "output_type": "stream",
          "name": "stdout",
          "text": [
            "Seja bem-vindo(a) ao Fiscal Append! Insira as informações necessárias.\n",
            "Olá, fiscal\n",
            "Você quer inserir novos dados? (sim/não/Sair do programa): sim \n",
            "Opção inválida. Por favor, insira 'sim', 'não' ou 'Sair do programa'.\n",
            "Você quer inserir novos dados? (sim/não/Sair do programa): sim\n",
            "Qual o nome da indústria? guararapes\n",
            "Qual valor de DBO inicial? 50\n",
            "Qual valor de DBO final? 100\n",
            "Eficiência inadequada\n",
            "Você quer inserir novos dados? (sim/não/Sair do programa): sim\n",
            "Qual o nome da indústria? guararapes\n",
            "Qual valor de DBO inicial? 500\n",
            "Qual valor de DBO final? 10\n",
            "Eficiência adequada\n",
            "Você quer inserir novos dados? (sim/não/Sair do programa): não\n",
            "Você quer verificar dados antigos, corrigir dados ou encerrar o programa? (verificar/corrigir/encerrar): verificar\n",
            "Qual o nome da indústria? guararapes\n",
            "Eficiência da indústria guararapes: -100.0%\n",
            "Você quer inserir novos dados? (sim/não/Sair do programa): sair do programa\n",
            "Opção inválida. Por favor, insira 'sim', 'não' ou 'Sair do programa'.\n",
            "Você quer inserir novos dados? (sim/não/Sair do programa): Sair do programa\n",
            "Saindo do programa... Obrigado por usar o Fiscal Append!\n"
          ]
        }
      ]
    },
    {
      "cell_type": "markdown",
      "source": [
        "Algoritmo fiscal de ETE"
      ],
      "metadata": {
        "id": "Qqq8h5YqHFYS"
      }
    },
    {
      "cell_type": "code",
      "source": [],
      "metadata": {
        "id": "dCXnTuchvoGp"
      },
      "execution_count": null,
      "outputs": []
    }
  ]
}